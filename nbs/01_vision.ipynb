{
 "cells": [
  {
   "cell_type": "code",
   "execution_count": null,
   "metadata": {},
   "outputs": [],
   "source": [
    "# default_exp vision.core"
   ]
  },
  {
   "cell_type": "markdown",
   "metadata": {},
   "source": [
    "# core functions for vision\n",
    "\n",
    "> API details."
   ]
  },
  {
   "cell_type": "code",
   "execution_count": null,
   "metadata": {},
   "outputs": [],
   "source": [
    "#export\n",
    "\n",
    "import PIL\n",
    "\n",
    "def arr2im(arr):\n",
    "    \"Convert array to PIL image\"\n",
    "    return PIL.Image.fromarray(arr,mode='RGB')"
   ]
  },
  {
   "cell_type": "code",
   "execution_count": null,
   "metadata": {},
   "outputs": [],
   "source": [
    "from badai.core import bytes_encode\n",
    "\n",
    "def im2bytes(im,rt=0,format='png'):\n",
    "    \"Convert image to bytes/encoded bytes\"\n",
    "    bites=io.BytesIO()\n",
    "    im.save(bites,format=format)\n",
    "    bites.seek(0)\n",
    "    enc=(bytes_encode(bites.read()))\n",
    "    if rt==0:return enc\n",
    "    if rt==1:return bites\n",
    "    if rt==2:return (enc,bites)"
   ]
  },
  {
   "cell_type": "code",
   "execution_count": null,
   "metadata": {},
   "outputs": [],
   "source": []
  }
 ],
 "metadata": {
  "kernelspec": {
   "display_name": "Python 3",
   "language": "python",
   "name": "python3"
  }
 },
 "nbformat": 4,
 "nbformat_minor": 2
}
