{
 "cells": [
  {
   "cell_type": "markdown",
   "metadata": {},
   "source": [
    "# dl server\n",
    "\n",
    "> notes from building"
   ]
  },
  {
   "cell_type": "markdown",
   "metadata": {},
   "source": [
    "## parts"
   ]
  },
  {
   "cell_type": "markdown",
   "metadata": {},
   "source": [
    "- https://l7.curtisnorthcutt.com/the-best-4-gpu-deep-learning-rig\n",
    "- https://l7.curtisnorthcutt.com/assets/images/posts/2019/perfect_gpu_rig/receipt_perfect_gpu.pdf\n",
    "- https://developer.nvidia.com/devbox\n",
    "- https://medium.com/@bingobee01/building-a-multi-gpu-deep-learning-machine-on-a-budget-3f3b717d80a9\n",
    "- https://medium.com/@acrosson/building-a-deep-learning-box-d17d97e2905c\n",
    "- https://medium.com/swlh/build-your-own-deep-learning-box-bill-of-materials-68cb1ccd9edf\n",
    "- https://medium.com/the-mission/how-to-build-the-perfect-deep-learning-computer-and-save-thousands-of-dollars-9ec3b2eb4ce2\n",
    "- https://blog.slavv.com/the-1700-great-deep-learning-box-assembly-setup-and-benchmarks-148c5ebe6415\n",
    "- https://medium.com/@aragalie/build-your-own-top-spec-remote-access-machine-learning-rig-a-very-detailed-assembly-and-dae0f4011a8f\n",
    "- https://towardsdatascience.com/building-your-own-deep-learning-box-47b918aea1eb\n",
    "- https://timdettmers.com/2018/12/16/deep-learning-hardware-guide/\n",
    "- https://www.slideshare.net/PetteriTeikariPhD/deep-learning-workstation\n",
    "- https://medium.com/@yvanscher/building-your-own-deep-learning-box-bc5b222e84ee\n",
    "- https://medium.com/@ernststavroblofeld/yet-another-deep-learning-build-yes-but-this-one-wont-break-my-bank-account-8af7c9c1357a"
   ]
  },
  {
   "cell_type": "markdown",
   "metadata": {},
   "source": [
    "## build"
   ]
  },
  {
   "cell_type": "markdown",
   "metadata": {},
   "source": [
    "## software"
   ]
  }
 ],
 "metadata": {
  "kernelspec": {
   "display_name": "Python 3",
   "language": "python",
   "name": "python3"
  }
 },
 "nbformat": 4,
 "nbformat_minor": 2
}
