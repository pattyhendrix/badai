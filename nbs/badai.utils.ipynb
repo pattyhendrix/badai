{
 "cells": [
  {
   "cell_type": "code",
   "execution_count": null,
   "metadata": {},
   "outputs": [],
   "source": [
    "# default_exp utils"
   ]
  },
  {
   "cell_type": "code",
   "execution_count": null,
   "metadata": {},
   "outputs": [],
   "source": [
    "#export\n",
    "from ppretty import ppretty\n",
    "from colorama import Fore as C,Style\n",
    "import base64,time,io"
   ]
  },
  {
   "cell_type": "markdown",
   "metadata": {},
   "source": [
    "# utils\n",
    "\n",
    "> helpers"
   ]
  },
  {
   "cell_type": "code",
   "execution_count": null,
   "metadata": {},
   "outputs": [],
   "source": [
    "#export\n",
    "def view(obj, depth=1, indent='  ', width=100, seq_length=1000,show_protected=False,\n",
    "             show_private=True, show_static=True, show_properties=True, show_address=False, str_length=1000):\n",
    "    \"Print everything that belongs to an object\"\n",
    "    print(ppretty(obj, depth=depth,indent=indent,width=width,seq_length=seq_length,\n",
    "                  show_protected=show_protected,show_private=show_private,show_static=show_static,\n",
    "                  show_properties=show_properties,show_address=show_address, str_length=str_length))"
   ]
  },
  {
   "cell_type": "code",
   "execution_count": null,
   "metadata": {},
   "outputs": [],
   "source": [
    "#export\n",
    "def bytes_encode(bites):\n",
    "    \"Encode bytes to base64 string\"\n",
    "    return base64.b64encode(bites).decode('utf-8')\n",
    "\n",
    "def bytes_decode(encoded):\n",
    "    \"Decode base64 string to bytes\"\n",
    "    return io.BytesIO(base64.b64decode(encoded))"
   ]
  },
  {
   "cell_type": "code",
   "execution_count": null,
   "metadata": {},
   "outputs": [],
   "source": [
    "#export\n",
    "def timer_start(label='timer'):\n",
    "    \"Start for timer. Place above start of code you want to time\"\n",
    "    return time.perf_counter()\n",
    "\n",
    "def timer_stop(start,label='timer'):\n",
    "    \"End for timer. Place below end of code you want to time. Prints execution time of surrounded code\"\n",
    "    print(f'[END] {label.upper()}', f'{float(time.perf_counter()-start):.2f} secs')"
   ]
  },
  {
   "cell_type": "code",
   "execution_count": null,
   "metadata": {},
   "outputs": [
    {
     "name": "stdout",
     "output_type": "stream",
     "text": [
      "[END] TIMER 5.01 secs\n"
     ]
    }
   ],
   "source": [
    "start=timer_start()\n",
    "time.sleep(5)\n",
    "timer_stop(start)"
   ]
  },
  {
   "cell_type": "code",
   "execution_count": null,
   "metadata": {},
   "outputs": [],
   "source": [
    "#export\n",
    "def to_bytesio(bites):\n",
    "    \"Convert bytes to io.BytesIO\"\n",
    "    return io.BytesIO(bites)"
   ]
  },
  {
   "cell_type": "code",
   "execution_count": null,
   "metadata": {},
   "outputs": [],
   "source": [
    "#export\n",
    "def cprint(s1,s2=None,c1=C.CYAN,c2=C.CYAN,c0=C.CYAN):\n",
    "  \"Print in color of c1\"\n",
    "  if s2 and c2:\n",
    "    print(c0+f'{\"-\"*14}'+Style.RESET_ALL,\n",
    "          c1+f'{\"-\"*14} {s1.upper()}'+Style.RESET_ALL,\n",
    "          c2+f'{s2}'+Style.RESET_ALL)\n",
    "  else:\n",
    "    print(C.CYAN+f'{\"-\"*14}'+Style.RESET_ALL,\n",
    "          c1+f'{\"-\"*14} {s1}'+Style.RESET_ALL)"
   ]
  },
  {
   "cell_type": "code",
   "execution_count": null,
   "metadata": {},
   "outputs": [],
   "source": [
    "#export\n",
    "def untar(tf,path='.'):\n",
    "    \"untar tarfile\"\n",
    "    tf=tarfile.open(tf)\n",
    "    return tf.extractall(path)"
   ]
  }
 ],
 "metadata": {
  "kernelspec": {
   "display_name": "Python 3",
   "language": "python",
   "name": "python3"
  }
 },
 "nbformat": 4,
 "nbformat_minor": 2
}
