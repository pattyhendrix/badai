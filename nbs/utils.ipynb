{
 "cells": [
  {
   "cell_type": "code",
   "execution_count": null,
   "metadata": {},
   "outputs": [],
   "source": [
    "# default_exp core"
   ]
  },
  {
   "cell_type": "code",
   "execution_count": null,
   "metadata": {},
   "outputs": [],
   "source": [
    "#export\n",
    "from ppretty import ppretty\n",
    "from colorama import Fore as C,Style\n",
    "from fastai2.vision.all import *\n",
    "import base64,time"
   ]
  },
  {
   "cell_type": "markdown",
   "metadata": {},
   "source": [
    "# core functions\n",
    "\n",
    "> API details."
   ]
  },
  {
   "cell_type": "code",
   "execution_count": null,
   "metadata": {},
   "outputs": [],
   "source": [
    "#export\n",
    "def print_obj(obj, depth=1, indent='  ', width=100, seq_length=1000,show_protected=False,\n",
    "             show_private=True, show_static=True, show_properties=True, show_address=False, str_length=1000):\n",
    "    \"Print everything that belongs to an object\"\n",
    "    print(ppretty(obj, depth=depth,indent=indent,width=width,seq_length=seq_length,\n",
    "                  show_protected=show_protected,show_private=show_private,show_static=show_static,\n",
    "                  show_properties=show_properties,show_address=show_address, str_length=str_length))"
   ]
  },
  {
   "cell_type": "code",
   "execution_count": null,
   "metadata": {},
   "outputs": [
    {
     "name": "stdout",
     "output_type": "stream",
     "text": [
      "fastai2.learner.Learner(\n",
      "  cbs = fastcore.foundation.L(...), \n",
      "  create_mbar = True, \n",
      "  dls = fastai2.data.core.DataLoaders(...), \n",
      "  epoch = 0, \n",
      "  loss = torch.Tensor(...), \n",
      "  loss_func = torch.nn.modules.loss.CrossEntropyLossFlat(...), \n",
      "  lr = 0.001, \n",
      "  metrics = fastcore.foundation.L(...), \n",
      "  model = torch.nn.modules.container.Sequential(...), \n",
      "  model_dir = 'models', \n",
      "  moms = (...), \n",
      "  n_epoch = 1, \n",
      "  opt = fastai2.optimizer.Optimizer(...), \n",
      "  path = pathlib.WindowsPath(...), \n",
      "  progress = fastai2.callback.progress.ProgressCallback(...), \n",
      "  recorder = fastai2.learner.Recorder(...), \n",
      "  train_bn = True, \n",
      "  train_eval = fastai2.callback.core.TrainEvalCallback(...), \n",
      "  training = False, \n",
      "  wd = None, \n",
      "  wd_bn_bias = False, \n",
      "  x = <Attribute error: AttributeError>, \n",
      "  y = <Attribute error: AttributeError>\n",
      ")\n"
     ]
    }
   ],
   "source": [
    "path=untar_data(URLs.PETS)/'images'\n",
    "\n",
    "def is_cat(x): return x[0].isupper()\n",
    "\n",
    "dls=ImageDataLoaders.from_name_func(\n",
    "      path, get_image_files(path), valid_pct=0.2, seed=42,\n",
    "      label_func=is_cat, item_tfms=Resize(224))\n",
    "\n",
    "learn=cnn_learner(dls, resnet34, metrics=error_rate)\n",
    "\n",
    "print_obj(learn)"
   ]
  },
  {
   "cell_type": "code",
   "execution_count": null,
   "metadata": {},
   "outputs": [],
   "source": [
    "#export\n",
    "def bytes_encode(bites):\n",
    "    \"Encode bytes to base64 string\"\n",
    "    return base64.b64encode(bites).decode('utf-8')\n",
    "\n",
    "def bytes_decode(encoded):\n",
    "    \"Decode base64 string to bytes\"\n",
    "    return base64.b64decode(encoded)"
   ]
  },
  {
   "cell_type": "code",
   "execution_count": null,
   "metadata": {},
   "outputs": [],
   "source": [
    "#export\n",
    "def timer_start():\n",
    "    \"Start for timer. Place above start of code you want to time\"\n",
    "    return time.perf_counter()\n",
    "def timer_end(start,label='timer'):\n",
    "    \"End for timer. Place below end of code you want to time. Prints execution time of surrounded code\"\n",
    "    print(f'[TIME {label.upper()}', f'{float(time.perf_counter()-start):.2f} secs'+']')"
   ]
  },
  {
   "cell_type": "code",
   "execution_count": null,
   "metadata": {},
   "outputs": [],
   "source": [
    "#export\n",
    "def to_bytesio(bites):\n",
    "    \"Convert bytes to io.BytesIO\"\n",
    "    return io.BytesIO(bites)"
   ]
  },
  {
   "cell_type": "code",
   "execution_count": null,
   "metadata": {},
   "outputs": [],
   "source": [
    "#export\n",
    "def cprint(s1,s2=None,c1=C.CYAN,c2=C.CYAN,c0=C.CYAN):\n",
    "  \"Print in color of c1\"\n",
    "  if s2 and c2:\n",
    "    print(c0+f'{\"-\"*14}'+Style.RESET_ALL,\n",
    "          c1+f'{\"-\"*14} {s1.upper()}'+Style.RESET_ALL,\n",
    "          c2+f'{s2}'+Style.RESET_ALL)\n",
    "  else:\n",
    "    print(C.CYAN+f'{\"-\"*14}'+Style.RESET_ALL,\n",
    "          c1+f'{\"-\"*14} {s1}'+Style.RESET_ALL)"
   ]
  }
 ],
 "metadata": {
  "kernelspec": {
   "display_name": "Python 3",
   "language": "python",
   "name": "python3"
  }
 },
 "nbformat": 4,
 "nbformat_minor": 2
}
