{
 "cells": [
  {
   "cell_type": "code",
   "execution_count": null,
   "metadata": {},
   "outputs": [],
   "source": [
    "# default_exp video.core"
   ]
  },
  {
   "cell_type": "code",
   "execution_count": null,
   "metadata": {},
   "outputs": [],
   "source": [
    "#export\n",
    "import av\n",
    "from badai.core import to_bytesio"
   ]
  },
  {
   "cell_type": "markdown",
   "metadata": {},
   "source": [
    "# core functions for video\n",
    "\n",
    "> API details."
   ]
  },
  {
   "cell_type": "code",
   "execution_count": null,
   "metadata": {},
   "outputs": [],
   "source": [
    "# export\n",
    "def select_frames(l):\n",
    "  \"Get first, 25%, 50%, 75%, and last frame from a list\"\n",
    "  f1 = l[0]\n",
    "  quarter=float(len(l))/4\n",
    "  f2 = (l[int(quarter+.5)] if quarter%2 !=0 else l[int(quarter)])\n",
    "  mid= float(len(l))/2\n",
    "  f3 = (l[int(mid-.5)] if mid%2 !=0 else l[int(mid)])\n",
    "  threeq =float(len(l))*.75\n",
    "  f4 = (l[int(threeq-.5)] if threeq%2 !=0 else l[int(threeq)])\n",
    "  f5 = l[-1]\n",
    "  return [f1,f2,f3,f4,f5]"
   ]
  },
  {
   "cell_type": "code",
   "execution_count": null,
   "metadata": {},
   "outputs": [],
   "source": [
    "#export\n",
    "def get_frames(vid):\n",
    "  \"Get frames from video\"\n",
    "  container=av.open(vid)\n",
    "  fs=[f.to_ndarray(format='rgb24') for f in container.decode(video=0)]\n",
    "  return select_frames(fs)"
   ]
  },
  {
   "cell_type": "code",
   "execution_count": null,
   "metadata": {},
   "outputs": [],
   "source": [
    "# export\n",
    "def get_vid(encoded):\n",
    "    \"Get video from encoded bytes\"\n",
    "    return to_bytesio(bytes_decode(encoded))"
   ]
  }
 ],
 "metadata": {
  "kernelspec": {
   "display_name": "Python 3",
   "language": "python",
   "name": "python3"
  }
 },
 "nbformat": 4,
 "nbformat_minor": 2
}
