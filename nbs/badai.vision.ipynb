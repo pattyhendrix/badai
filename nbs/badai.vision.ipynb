{
 "cells": [
  {
   "cell_type": "code",
   "execution_count": null,
   "metadata": {},
   "outputs": [],
   "source": [
    "# default_exp vision.core"
   ]
  },
  {
   "cell_type": "code",
   "execution_count": null,
   "metadata": {},
   "outputs": [],
   "source": [
    "#export\n",
    "import PIL,io\n",
    "# from utils import bytes_encode"
   ]
  },
  {
   "cell_type": "markdown",
   "metadata": {},
   "source": [
    "# core functions for vision\n",
    "\n",
    "> API details."
   ]
  },
  {
   "cell_type": "code",
   "execution_count": null,
   "metadata": {},
   "outputs": [],
   "source": [
    "# export\n",
    "def arr2im(arr):\n",
    "    \"Convert array to PIL image\"\n",
    "    return PIL.Image.fromarray(arr,mode='RGB')"
   ]
  },
  {
   "cell_type": "code",
   "execution_count": null,
   "metadata": {},
   "outputs": [],
   "source": [
    "#hide\n",
    "\n",
    "# # export\n",
    "# def im2bytes(im,rt=0,format='png'):\n",
    "#     \"Convert image to bytes/encoded bytes\"\n",
    "#     bites=io.BytesIO()\n",
    "#     im.save(bites,format=format)\n",
    "#     bites.seek(0)\n",
    "#     enc=(bytes_encode(bites.read()))\n",
    "#     if rt==0:return enc\n",
    "#     if rt==1:return bites\n",
    "#     if rt==2:return (enc,bites)"
   ]
  },
  {
   "cell_type": "code",
   "execution_count": null,
   "metadata": {},
   "outputs": [],
   "source": [
    "#export\n",
    "def check_im(im,sz=256):\n",
    "    \"Check size of image is same as sz\"\n",
    "    return im if im.size==(sz,sz) else im.resize((sz,sz))"
   ]
  },
  {
   "cell_type": "code",
   "execution_count": null,
   "metadata": {},
   "outputs": [],
   "source": [
    "#export\n",
    "def open_im(im):\n",
    "    \"Open image\"\n",
    "    return PIL.Image.open(im)"
   ]
  }
 ],
 "metadata": {
  "kernelspec": {
   "display_name": "Python 3",
   "language": "python",
   "name": "python3"
  }
 },
 "nbformat": 4,
 "nbformat_minor": 2
}
