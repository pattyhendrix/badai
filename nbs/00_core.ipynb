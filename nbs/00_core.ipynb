{
 "cells": [
  {
   "cell_type": "code",
   "execution_count": null,
   "metadata": {},
   "outputs": [],
   "source": [
    "# default_exp core"
   ]
  },
  {
   "cell_type": "markdown",
   "metadata": {},
   "source": [
    "# core functions\n",
    "\n",
    "> API details."
   ]
  },
  {
   "cell_type": "code",
   "execution_count": null,
   "metadata": {},
   "outputs": [],
   "source": [
    "#export\n",
    "\n",
    "from ppretty import ppretty\n",
    "\n",
    "def print_obj(obj, depth=1, indent='  ', width=100, seq_length=1000,show_protected=False,\n",
    "             show_private=True, show_static=True, show_properties=True, show_address=False, str_length=1000):\n",
    "\n",
    "    \"Print everything that belongs to an object\"\n",
    "    \n",
    "    print(ppretty(obj, depth=depth,indent=indent,width=width,seq_length=seq_length,\n",
    "                  show_protected=show_protected,show_private=show_private,show_static=show_static,\n",
    "                  show_properties=show_properties,show_address=show_address, str_length=str_length))"
   ]
  },
  {
   "cell_type": "code",
   "execution_count": null,
   "metadata": {},
   "outputs": [
    {
     "name": "stdout",
     "output_type": "stream",
     "text": [
      "fastai2.learner.Learner(\n",
      "  cbs = fastcore.foundation.L(...), \n",
      "  create_mbar = True, \n",
      "  dls = fastai2.data.core.DataLoaders(...), \n",
      "  epoch = 0, \n",
      "  loss = torch.Tensor(...), \n",
      "  loss_func = torch.nn.modules.loss.CrossEntropyLossFlat(...), \n",
      "  lr = 0.001, \n",
      "  metrics = fastcore.foundation.L(...), \n",
      "  model = torch.nn.modules.container.Sequential(...), \n",
      "  model_dir = 'models', \n",
      "  moms = (...), \n",
      "  n_epoch = 1, \n",
      "  opt = fastai2.optimizer.Optimizer(...), \n",
      "  path = pathlib.WindowsPath(...), \n",
      "  progress = fastai2.callback.progress.ProgressCallback(...), \n",
      "  recorder = fastai2.learner.Recorder(...), \n",
      "  train_bn = True, \n",
      "  train_eval = fastai2.callback.core.TrainEvalCallback(...), \n",
      "  training = False, \n",
      "  wd = None, \n",
      "  wd_bn_bias = False, \n",
      "  x = <Attribute error: AttributeError>, \n",
      "  y = <Attribute error: AttributeError>\n",
      ")\n"
     ]
    }
   ],
   "source": [
    "from fastai2.vision.all import *\n",
    "\n",
    "path=untar_data(URLs.PETS)/'images'\n",
    "\n",
    "def is_cat(x): return x[0].isupper()\n",
    "\n",
    "dls=ImageDataLoaders.from_name_func(\n",
    "      path, get_image_files(path), valid_pct=0.2, seed=42,\n",
    "      label_func=is_cat, item_tfms=Resize(224))\n",
    "\n",
    "learn=cnn_learner(dls, resnet34, metrics=error_rate)\n",
    "\n",
    "print_obj(learn)"
   ]
  }
 ],
 "metadata": {
  "kernelspec": {
   "display_name": "Python 3",
   "language": "python",
   "name": "python3"
  }
 },
 "nbformat": 4,
 "nbformat_minor": 2
}
