{
 "cells": [
  {
   "cell_type": "markdown",
   "metadata": {},
   "source": [
    "# various notes\n",
    "\n",
    "> course, server, etc."
   ]
  }
 ],
 "metadata": {
  "kernelspec": {
   "display_name": "Python 3",
   "language": "python",
   "name": "python3"
  }
 },
 "nbformat": 4,
 "nbformat_minor": 2
}
