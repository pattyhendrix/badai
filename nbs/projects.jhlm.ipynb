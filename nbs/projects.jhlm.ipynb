{
 "cells": [
  {
   "cell_type": "markdown",
   "metadata": {
    "heading_collapsed": true
   },
   "source": [
    "# imports"
   ]
  },
  {
   "cell_type": "code",
   "execution_count": 1,
   "metadata": {
    "hidden": true
   },
   "outputs": [],
   "source": [
    "from fastai2.text.all import *\n",
    "from badai.utils import *"
   ]
  },
  {
   "cell_type": "code",
   "execution_count": 2,
   "metadata": {
    "hidden": true
   },
   "outputs": [],
   "source": [
    "path=Path('/home/hendrix/data/jhlm/')"
   ]
  },
  {
   "cell_type": "code",
   "execution_count": 3,
   "metadata": {
    "hidden": true
   },
   "outputs": [],
   "source": [
    "df=pd.read_csv(path/'alllessons2.csv')"
   ]
  },
  {
   "cell_type": "code",
   "execution_count": 7,
   "metadata": {
    "hidden": true
   },
   "outputs": [
    {
     "data": {
      "text/html": [
       "<div>\n",
       "<style scoped>\n",
       "    .dataframe tbody tr th:only-of-type {\n",
       "        vertical-align: middle;\n",
       "    }\n",
       "\n",
       "    .dataframe tbody tr th {\n",
       "        vertical-align: top;\n",
       "    }\n",
       "\n",
       "    .dataframe thead th {\n",
       "        text-align: right;\n",
       "    }\n",
       "</style>\n",
       "<table border=\"1\" class=\"dataframe\">\n",
       "  <thead>\n",
       "    <tr style=\"text-align: right;\">\n",
       "      <th></th>\n",
       "      <th>text</th>\n",
       "    </tr>\n",
       "  </thead>\n",
       "  <tbody>\n",
       "    <tr>\n",
       "      <th>0</th>\n",
       "      <td>okay so welcome practical deep learning for coders less than one it's kind of lesson two because there's a lesson zero in less than zero is is why do you need a GPU and how do you get it set up so if you haven't got the GPU running yet then go back and do that make sure that you can access a jupiter notebook and and then you're ready to start the real lesson one so if you're ready you will be able to see something like this and in particular hopefully you have gone to notebook tutorial it's</td>\n",
       "    </tr>\n",
       "    <tr>\n",
       "      <th>1</th>\n",
       "      <td>at the top that's right with zero zero here as this grows you'll see more and more files but will keep a notebook tutorial at the top and you will have used your jupiter notebook to add one and one together getting the expected result bigger and hopefully you've learned these four keyboard shortcuts so the basic idea is that your jupiter notebook has pros in it it can have pictures you know it can have charts in it and most importantly it can have code in it okay so the code is in python how many people have used</td>\n",
       "    </tr>\n",
       "  </tbody>\n",
       "</table>\n",
       "</div>"
      ],
      "text/plain": [
       "                                                                                                                                                                                                                                                                                                                                                                                                                                                                                                                                     text\n",
       "0                         okay so welcome practical deep learning for coders less than one it's kind of lesson two because there's a lesson zero in less than zero is is why do you need a GPU and how do you get it set up so if you haven't got the GPU running yet then go back and do that make sure that you can access a jupiter notebook and and then you're ready to start the real lesson one so if you're ready you will be able to see something like this and in particular hopefully you have gone to notebook tutorial it's\n",
       "1  at the top that's right with zero zero here as this grows you'll see more and more files but will keep a notebook tutorial at the top and you will have used your jupiter notebook to add one and one together getting the expected result bigger and hopefully you've learned these four keyboard shortcuts so the basic idea is that your jupiter notebook has pros in it it can have pictures you know it can have charts in it and most importantly it can have code in it okay so the code is in python how many people have used"
      ]
     },
     "execution_count": 7,
     "metadata": {},
     "output_type": "execute_result"
    }
   ],
   "source": [
    "df.head(2)"
   ]
  },
  {
   "cell_type": "markdown",
   "metadata": {
    "heading_collapsed": true
   },
   "source": [
    "# db"
   ]
  },
  {
   "cell_type": "code",
   "execution_count": 4,
   "metadata": {
    "hidden": true
   },
   "outputs": [],
   "source": [
    "db=DataBlock(blocks  =TextBlock.from_df('text',is_lm=True),\n",
    "             get_x   =ColReader('text'),\n",
    "             splitter=RandomSplitter(0.1))"
   ]
  },
  {
   "cell_type": "code",
   "execution_count": 5,
   "metadata": {
    "hidden": true
   },
   "outputs": [
    {
     "data": {
      "text/html": [],
      "text/plain": [
       "<IPython.core.display.HTML object>"
      ]
     },
     "metadata": {},
     "output_type": "display_data"
    }
   ],
   "source": [
    "dls=db.dataloaders(df,bs=128,seq_len=80)"
   ]
  },
  {
   "cell_type": "markdown",
   "metadata": {
    "heading_collapsed": true
   },
   "source": [
    "# learner"
   ]
  },
  {
   "cell_type": "code",
   "execution_count": 6,
   "metadata": {
    "hidden": true
   },
   "outputs": [],
   "source": [
    "learn = language_model_learner(\n",
    "    dls, AWD_LSTM, drop_mult=0.3, \n",
    "    metrics=[accuracy, Perplexity()]\n",
    ").to_fp16()"
   ]
  },
  {
   "cell_type": "markdown",
   "metadata": {
    "heading_collapsed": true,
    "hidden": true
   },
   "source": [
    "## frozen"
   ]
  },
  {
   "cell_type": "code",
   "execution_count": null,
   "metadata": {
    "hidden": true
   },
   "outputs": [],
   "source": [
    "learn.fit_one_cycle(1, 2e-2)"
   ]
  },
  {
   "cell_type": "code",
   "execution_count": 29,
   "metadata": {
    "hidden": true
   },
   "outputs": [],
   "source": [
    "learn.save('jhlm')"
   ]
  },
  {
   "cell_type": "code",
   "execution_count": 27,
   "metadata": {
    "hidden": true
   },
   "outputs": [],
   "source": [
    "text = 'I like deep learning because'\n",
    "n_words = 40\n",
    "n_sentences=3"
   ]
  },
  {
   "cell_type": "code",
   "execution_count": 28,
   "metadata": {
    "hidden": true
   },
   "outputs": [
    {
     "data": {
      "text/html": [],
      "text/plain": [
       "<IPython.core.display.HTML object>"
      ]
     },
     "metadata": {},
     "output_type": "display_data"
    },
    {
     "data": {
      "text/html": [],
      "text/plain": [
       "<IPython.core.display.HTML object>"
      ]
     },
     "metadata": {},
     "output_type": "display_data"
    },
    {
     "data": {
      "text/html": [],
      "text/plain": [
       "<IPython.core.display.HTML object>"
      ]
     },
     "metadata": {},
     "output_type": "display_data"
    },
    {
     "name": "stdout",
     "output_type": "stream",
     "text": [
      "i like deep learning because you have to do things like this and you can try and create models that get right up towards the top of capital competitions preferably actually in the top ten what does the top 10 % or that meet or\n",
      "i like deep learning because it 's going to be pretty good at predicting the next word of Wikipedia . Why is that useful ? Because at that time , a neural net is just like memory intensive . But ,\n",
      "i like deep learning because it 's just going to be a date it 'll add together the input to the API so let 's just have to add together the input to those two convolutions with the result of those two convolutions .\n"
     ]
    }
   ],
   "source": [
    "print('\\n'.join(learn.predict(text, n_words) for _ in range(n_sentences)))"
   ]
  },
  {
   "cell_type": "code",
   "execution_count": 12,
   "metadata": {
    "hidden": true
   },
   "outputs": [],
   "source": [
    "learn.load('jhlm');"
   ]
  },
  {
   "cell_type": "code",
   "execution_count": 13,
   "metadata": {
    "hidden": true
   },
   "outputs": [],
   "source": [
    "text = 'I like deep learning because'\n",
    "n_words = 40\n",
    "n_sentences=3"
   ]
  },
  {
   "cell_type": "code",
   "execution_count": 19,
   "metadata": {
    "hidden": true
   },
   "outputs": [
    {
     "data": {
      "text/html": [],
      "text/plain": [
       "<IPython.core.display.HTML object>"
      ]
     },
     "metadata": {},
     "output_type": "display_data"
    },
    {
     "data": {
      "text/html": [],
      "text/plain": [
       "<IPython.core.display.HTML object>"
      ]
     },
     "metadata": {},
     "output_type": "display_data"
    },
    {
     "data": {
      "text/html": [],
      "text/plain": [
       "<IPython.core.display.HTML object>"
      ]
     },
     "metadata": {},
     "output_type": "display_data"
    },
    {
     "name": "stdout",
     "output_type": "stream",
     "text": [
      "i like deep learning because the Wikitext 103 language model . Not that it 's difficult﹣you can just download the wikitext 103 corpus , and run the same code . But it takes two or three days on a decent GPU\n",
      "i like deep learning because it 's really much like semantic content there but if i go into the middle in layer 3 we may well be able to find some some some differences differences differences there there there so so so then then then what what what you you you can can can do do do is is is you you you can can can click click click\n",
      "i like deep learning because it 's a really good exercise in making sure you understand the material so the first one we 're going to look at is a data set of satellite images and satellite imaging is a really fertile area for deep\n"
     ]
    }
   ],
   "source": [
    "print('\\n'.join(learn.predict(text, n_words) for _ in range(n_sentences)))"
   ]
  },
  {
   "cell_type": "markdown",
   "metadata": {
    "heading_collapsed": true,
    "hidden": true
   },
   "source": [
    "## unfrozen"
   ]
  },
  {
   "cell_type": "code",
   "execution_count": 20,
   "metadata": {
    "hidden": true
   },
   "outputs": [
    {
     "data": {
      "text/html": [
       "<table border=\"1\" class=\"dataframe\">\n",
       "  <thead>\n",
       "    <tr style=\"text-align: left;\">\n",
       "      <th>epoch</th>\n",
       "      <th>train_loss</th>\n",
       "      <th>valid_loss</th>\n",
       "      <th>accuracy</th>\n",
       "      <th>perplexity</th>\n",
       "      <th>time</th>\n",
       "    </tr>\n",
       "  </thead>\n",
       "  <tbody>\n",
       "    <tr>\n",
       "      <td>0</td>\n",
       "      <td>0.097970</td>\n",
       "      <td>0.058657</td>\n",
       "      <td>0.987156</td>\n",
       "      <td>1.060412</td>\n",
       "      <td>13:51</td>\n",
       "    </tr>\n",
       "  </tbody>\n",
       "</table>"
      ],
      "text/plain": [
       "<IPython.core.display.HTML object>"
      ]
     },
     "metadata": {},
     "output_type": "display_data"
    }
   ],
   "source": [
    "learn.unfreeze()\n",
    "learn.fit_one_cycle(1, 2e-3)"
   ]
  },
  {
   "cell_type": "code",
   "execution_count": 21,
   "metadata": {
    "hidden": true
   },
   "outputs": [],
   "source": [
    "learn.save('jhlm2')"
   ]
  },
  {
   "cell_type": "code",
   "execution_count": 22,
   "metadata": {
    "hidden": true
   },
   "outputs": [],
   "source": [
    "text = 'I like deep learning because'\n",
    "n_words = 40\n",
    "n_sentences=3"
   ]
  },
  {
   "cell_type": "code",
   "execution_count": 24,
   "metadata": {
    "hidden": true
   },
   "outputs": [
    {
     "data": {
      "text/html": [],
      "text/plain": [
       "<IPython.core.display.HTML object>"
      ]
     },
     "metadata": {},
     "output_type": "display_data"
    },
    {
     "data": {
      "text/html": [],
      "text/plain": [
       "<IPython.core.display.HTML object>"
      ]
     },
     "metadata": {},
     "output_type": "display_data"
    },
    {
     "data": {
      "text/html": [],
      "text/plain": [
       "<IPython.core.display.HTML object>"
      ]
     },
     "metadata": {},
     "output_type": "display_data"
    },
    {
     "name": "stdout",
     "output_type": "stream",
     "text": [
      "i like deep learning because you can refactor that like so : Keep refactoring your architectures if you 're trying novel architectures because you 'll make less mistakes . Very few people do this . Most research code you look at is\n",
      "i like deep learning because it 's always the same basic structure . As usual , when we create a learner , you have to pass in two things : The data : so here 's our language model data \n",
      " What\n",
      "i like deep learning because you can see what it 's going to do is i want to keep you amused for a couple of months . i wanted to start by showing some cool work done by a couple of students ; Reshama\n"
     ]
    }
   ],
   "source": [
    "print('\\n'.join(learn.predict(text, n_words,temperature=.5) for _ in range(n_sentences)))"
   ]
  },
  {
   "cell_type": "code",
   "execution_count": 27,
   "metadata": {
    "hidden": true
   },
   "outputs": [
    {
     "data": {
      "text/html": [],
      "text/plain": [
       "<IPython.core.display.HTML object>"
      ]
     },
     "metadata": {},
     "output_type": "display_data"
    },
    {
     "data": {
      "text/html": [],
      "text/plain": [
       "<IPython.core.display.HTML object>"
      ]
     },
     "metadata": {},
     "output_type": "display_data"
    },
    {
     "data": {
      "text/html": [],
      "text/plain": [
       "<IPython.core.display.HTML object>"
      ]
     },
     "metadata": {},
     "output_type": "display_data"
    },
    {
     "name": "stdout",
     "output_type": "stream",
     "text": [
      "i like deep learning because you 've got to play around with different dropout values for each of your layers to decide so in pretty much every fast AI learner there 's a parameter called P 's PS which will be the\n",
      "i like deep learning because you can see what 's going on and it 's pretty good at recognizing the contents of 128 by 128 satellite images so what am i going to do if i now want to create a model that 's pretty\n",
      "i like deep learning because it 's always the trick . Last year in this course i tried something crazy which was i thought what if i try transform learning to demonstrate that it can work for NLP as well . i tried\n"
     ]
    }
   ],
   "source": [
    "print('\\n'.join(learn.predict(text, n_words,temperature=.3) for _ in range(n_sentences)))"
   ]
  },
  {
   "cell_type": "code",
   "execution_count": 27,
   "metadata": {
    "hidden": true
   },
   "outputs": [
    {
     "data": {
      "text/html": [],
      "text/plain": [
       "<IPython.core.display.HTML object>"
      ]
     },
     "metadata": {},
     "output_type": "display_data"
    },
    {
     "data": {
      "text/html": [],
      "text/plain": [
       "<IPython.core.display.HTML object>"
      ]
     },
     "metadata": {},
     "output_type": "display_data"
    },
    {
     "data": {
      "text/html": [],
      "text/plain": [
       "<IPython.core.display.HTML object>"
      ]
     },
     "metadata": {},
     "output_type": "display_data"
    },
    {
     "name": "stdout",
     "output_type": "stream",
     "text": [
      "i like deep learning because you 've got to play around with different dropout values for each of your layers to decide so in pretty much every fast AI learner there 's a parameter called P 's PS which will be the\n",
      "i like deep learning because you can see what 's going on and it 's pretty good at recognizing the contents of 128 by 128 satellite images so what am i going to do if i now want to create a model that 's pretty\n",
      "i like deep learning because it 's always the trick . Last year in this course i tried something crazy which was i thought what if i try transform learning to demonstrate that it can work for NLP as well . i tried\n"
     ]
    }
   ],
   "source": [
    "print('\\n'.join(learn.predict(text, n_words,temperature=.3) for _ in range(n_sentences)))"
   ]
  },
  {
   "cell_type": "markdown",
   "metadata": {},
   "source": [
    "# app"
   ]
  },
  {
   "cell_type": "code",
   "execution_count": 54,
   "metadata": {},
   "outputs": [],
   "source": [
    "#hide\n",
    "from utils import *\n",
    "from fastai2.vision.widgets import *"
   ]
  },
  {
   "cell_type": "code",
   "execution_count": 8,
   "metadata": {},
   "outputs": [],
   "source": [
    "learn.load('jhlm2');"
   ]
  },
  {
   "cell_type": "code",
   "execution_count": 9,
   "metadata": {},
   "outputs": [],
   "source": [
    "learn.export('jhlm.pkl')"
   ]
  },
  {
   "cell_type": "code",
   "execution_count": 20,
   "metadata": {},
   "outputs": [],
   "source": [
    "path=Path(os.getcwd()+'/models')"
   ]
  },
  {
   "cell_type": "code",
   "execution_count": 22,
   "metadata": {},
   "outputs": [
    {
     "data": {
      "text/plain": [
       "(#1) [Path('/home/hendrix/hdd/git/badai/nbs/models/jhlm.pkl')]"
      ]
     },
     "execution_count": 22,
     "metadata": {},
     "output_type": "execute_result"
    }
   ],
   "source": [
    "path.ls(file_exts='.pkl')"
   ]
  },
  {
   "cell_type": "code",
   "execution_count": 23,
   "metadata": {},
   "outputs": [],
   "source": [
    "learn_inf=load_learner(path/'jhlm.pkl')"
   ]
  },
  {
   "cell_type": "code",
   "execution_count": 50,
   "metadata": {},
   "outputs": [
    {
     "data": {
      "text/html": [],
      "text/plain": [
       "<IPython.core.display.HTML object>"
      ]
     },
     "metadata": {},
     "output_type": "display_data"
    },
    {
     "data": {
      "text/html": [],
      "text/plain": [
       "<IPython.core.display.HTML object>"
      ]
     },
     "metadata": {},
     "output_type": "display_data"
    },
    {
     "data": {
      "text/html": [],
      "text/plain": [
       "<IPython.core.display.HTML object>"
      ]
     },
     "metadata": {},
     "output_type": "display_data"
    }
   ],
   "source": [
    "TEXT       ='I like deep learning because'\n",
    "N_WORDS    =40\n",
    "N_SENTENCES=3\n",
    "TEMP       =.7\n",
    "preds = [learn.predict(TEXT, N_WORDS, temperature=TEMP) for _ in range(N_SENTENCES)]"
   ]
  },
  {
   "cell_type": "code",
   "execution_count": 51,
   "metadata": {},
   "outputs": [
    {
     "name": "stdout",
     "output_type": "stream",
     "text": [
      "i like deep learning because you 've got to play around with different dropout values for each of your layers to decide so in pretty much every fast AI learner there 's a parameter called P 's PS which will be the\n",
      "\n",
      "i like deep learning because it 's always the trick . So if you 're overfitting then you can do a lot of the work for you and again this is an example of a really good trick so i 've been actually doing\n",
      "\n",
      "i like deep learning because you can do things like this and then what you can do is try and extend them to do it things in your own way okay so do n't worry if things are zipping along faster then you can do\n"
     ]
    }
   ],
   "source": [
    "print('\\n\\n'.join(preds))"
   ]
  },
  {
   "cell_type": "code",
   "execution_count": 55,
   "metadata": {},
   "outputs": [
    {
     "data": {
      "application/vnd.jupyter.widget-view+json": {
       "model_id": "ddf8426966224c18bb2b96884b9323fa",
       "version_major": 2,
       "version_minor": 0
      },
      "text/plain": [
       "FileUpload(value={}, description='Upload')"
      ]
     },
     "metadata": {},
     "output_type": "display_data"
    }
   ],
   "source": [
    "btn_upload = widgets.FileUpload()\n",
    "btn_upload"
   ]
  },
  {
   "cell_type": "code",
   "execution_count": 142,
   "metadata": {},
   "outputs": [
    {
     "data": {
      "application/vnd.jupyter.widget-view+json": {
       "model_id": "ee2424e31ebb481a94f3c981fddc7e10",
       "version_major": 2,
       "version_minor": 0
      },
      "text/plain": [
       "Text(value='', description='start:', placeholder='i love deep learning because (leave blank for random)')"
      ]
     },
     "metadata": {},
     "output_type": "display_data"
    }
   ],
   "source": [
    "txt=widgets.Text(\n",
    "    value='',\n",
    "    placeholder='i love deep learning because (leave blank for random)',\n",
    "    description='start:',\n",
    "    disabled=False\n",
    ")\n",
    "txt"
   ]
  },
  {
   "cell_type": "code",
   "execution_count": 79,
   "metadata": {},
   "outputs": [
    {
     "data": {
      "application/vnd.jupyter.widget-view+json": {
       "model_id": "001c8f198d144011b0c2616b76a0c3be",
       "version_major": 2,
       "version_minor": 0
      },
      "text/plain": [
       "Text(value='80', description='# of words:', placeholder='80')"
      ]
     },
     "metadata": {},
     "output_type": "display_data"
    }
   ],
   "source": [
    "wrds=widgets.Text(\n",
    "    value='80',\n",
    "    placeholder='80',\n",
    "    description='# of words:',\n",
    "    disabled_words=False\n",
    ")\n",
    "wrds"
   ]
  },
  {
   "cell_type": "code",
   "execution_count": 82,
   "metadata": {},
   "outputs": [
    {
     "data": {
      "application/vnd.jupyter.widget-view+json": {
       "model_id": "abb24930f45f45e09bd611afbac7f44d",
       "version_major": 2,
       "version_minor": 0
      },
      "text/plain": [
       "Text(value='.5', description='variance 0-1:', placeholder='.5')"
      ]
     },
     "metadata": {},
     "output_type": "display_data"
    }
   ],
   "source": [
    "var=widgets.Text(\n",
    "    value='.5',\n",
    "    placeholder='.5',\n",
    "    description='variance 0-1:',\n",
    "    disabled=False\n",
    ")\n",
    "var"
   ]
  },
  {
   "cell_type": "code",
   "execution_count": 137,
   "metadata": {},
   "outputs": [
    {
     "data": {
      "text/html": [],
      "text/plain": [
       "<IPython.core.display.HTML object>"
      ]
     },
     "metadata": {},
     "output_type": "display_data"
    }
   ],
   "source": [
    "TEXT       =txt.value\n",
    "N_WORDS    =int(wrds.value)\n",
    "N_SENTENCES=1\n",
    "TEMP       =float(var.value)\n",
    "preds = learn.predict(TEXT, N_WORDS, temperature=TEMP)"
   ]
  },
  {
   "cell_type": "code",
   "execution_count": 138,
   "metadata": {},
   "outputs": [
    {
     "data": {
      "text/plain": [
       "\"i love deep learning because i good windows server it 's just pop that into a little mini sequential model here and so picture of what 's going on this first picture is a picture of a standard fully connected Network it 's a picture of this and what each line shows is a multiplication of an activation times a weight and then when you 've got multiple arrows coming in that represents a sum so this activation here is the sum of\""
      ]
     },
     "execution_count": 138,
     "metadata": {},
     "output_type": "execute_result"
    }
   ],
   "source": [
    "lbl_pred = widgets.Label()\n",
    "lbl_pred.value = f'Prediction: {pred}; Probability: {probs[pred_idx]:.04f}'\n",
    "lbl_predpreds"
   ]
  },
  {
   "cell_type": "code",
   "execution_count": 171,
   "metadata": {},
   "outputs": [
    {
     "data": {
      "application/vnd.jupyter.widget-view+json": {
       "model_id": "618de1f04e3248c3acc37e08dfe86d44",
       "version_major": 2,
       "version_minor": 0
      },
      "text/plain": [
       "Label(value=\"i love deep learning because i good windows server it 's just pop that into a little mini sequent…"
      ]
     },
     "metadata": {},
     "output_type": "display_data"
    }
   ],
   "source": [
    "lbl_pred = widgets.Label()\n",
    "lbl_pred.value = preds\n",
    "lbl_pred"
   ]
  },
  {
   "cell_type": "code",
   "execution_count": 175,
   "metadata": {},
   "outputs": [
    {
     "data": {
      "application/vnd.jupyter.widget-view+json": {
       "model_id": "9cd3ff68308c4d12b15abbfd5c4e71a3",
       "version_major": 2,
       "version_minor": 0
      },
      "text/plain": [
       "Button(description='Generate', style=ButtonStyle())"
      ]
     },
     "metadata": {},
     "output_type": "display_data"
    }
   ],
   "source": [
    "btn_run = widgets.Button(description='Generate')\n",
    "btn_run"
   ]
  },
  {
   "cell_type": "code",
   "execution_count": 176,
   "metadata": {},
   "outputs": [],
   "source": [
    "def on_click_classify(change):\n",
    "    TEXT =txt.value\n",
    "    N_WORDS=int(wrds.value)\n",
    "    TEMP=float(var.value)\n",
    "    preds=learn.predict(TEXT, \n",
    "                        N_WORDS, \n",
    "                        temperature=TEMP)\n",
    "    \n",
    "    out_pl.clear_output()\n",
    "    with out_pl: display()\n",
    "    \n",
    "    lbl_pred.value=preds\n",
    "\n",
    "btn_run.on_click(on_click_classify)"
   ]
  },
  {
   "cell_type": "code",
   "execution_count": 178,
   "metadata": {},
   "outputs": [
    {
     "data": {
      "application/vnd.jupyter.widget-view+json": {
       "model_id": "29d20245a4de423ab7d3716e7edd3583",
       "version_major": 2,
       "version_minor": 0
      },
      "text/plain": [
       "VBox(children=(Label(value=\"Jeremy's language model generator\"), Text(value='', description='start:', placehol…"
      ]
     },
     "metadata": {},
     "output_type": "display_data"
    },
    {
     "data": {
      "text/html": [],
      "text/plain": [
       "<IPython.core.display.HTML object>"
      ]
     },
     "metadata": {},
     "output_type": "display_data"
    }
   ],
   "source": [
    "VBox([widgets.Label(\"Jeremy's language model generator\"), \n",
    "      txt, wrds, var,btn_run, out_pl, lbl_pred])"
   ]
  },
  {
   "cell_type": "code",
   "execution_count": null,
   "metadata": {},
   "outputs": [],
   "source": []
  },
  {
   "cell_type": "markdown",
   "metadata": {},
   "source": [
    "# end"
   ]
  }
 ],
 "metadata": {
  "kernelspec": {
   "display_name": "Python 3",
   "language": "python",
   "name": "python3"
  },
  "language_info": {
   "codemirror_mode": {
    "name": "ipython",
    "version": 3
   },
   "file_extension": ".py",
   "mimetype": "text/x-python",
   "name": "python",
   "nbconvert_exporter": "python",
   "pygments_lexer": "ipython3",
   "version": "3.7.6"
  },
  "toc": {
   "base_numbering": 1,
   "nav_menu": {},
   "number_sections": true,
   "sideBar": true,
   "skip_h1_title": false,
   "title_cell": "Table of Contents",
   "title_sidebar": "Contents",
   "toc_cell": false,
   "toc_position": {},
   "toc_section_display": true,
   "toc_window_display": false
  },
  "varInspector": {
   "cols": {
    "lenName": 16,
    "lenType": 16,
    "lenVar": 40
   },
   "kernels_config": {
    "python": {
     "delete_cmd_postfix": "",
     "delete_cmd_prefix": "del ",
     "library": "var_list.py",
     "varRefreshCmd": "print(var_dic_list())"
    },
    "r": {
     "delete_cmd_postfix": ") ",
     "delete_cmd_prefix": "rm(",
     "library": "var_list.r",
     "varRefreshCmd": "cat(var_dic_list()) "
    }
   },
   "types_to_exclude": [
    "module",
    "function",
    "builtin_function_or_method",
    "instance",
    "_Feature"
   ],
   "window_display": false
  }
 },
 "nbformat": 4,
 "nbformat_minor": 4
}
